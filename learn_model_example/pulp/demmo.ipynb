{
 "metadata": {
  "language_info": {
   "codemirror_mode": {
    "name": "ipython",
    "version": 3
   },
   "file_extension": ".py",
   "mimetype": "text/x-python",
   "name": "python",
   "nbconvert_exporter": "python",
   "pygments_lexer": "ipython3",
   "version": "3.8.11"
  },
  "orig_nbformat": 4,
  "kernelspec": {
   "name": "python3",
   "display_name": "Python 3.8.11 64-bit ('NestingAlgorithm': conda)"
  },
  "interpreter": {
   "hash": "8de9b3da647db5c81161df7b232daea0db92a00ff55551938c1408551d39a528"
  }
 },
 "nbformat": 4,
 "nbformat_minor": 2,
 "cells": [
  {
   "cell_type": "markdown",
   "source": [
    "# python解决线性规划问题\n",
    "\n",
    "线性模块有pulp库，scipy下的linprog，pymprog库。\n",
    "- pulp 库更符合书写习惯\n",
    "\n",
    "[CSDN的pulp使用帮助](https://blog.csdn.net/qq_42731466/article/details/82049501)"
   ],
   "metadata": {}
  },
  {
   "cell_type": "code",
   "execution_count": 2,
   "source": [
    "from pulp import *"
   ],
   "outputs": [],
   "metadata": {}
  },
  {
   "cell_type": "markdown",
   "source": [
    "- LpProblem()：定义一个线性规划问题\r\n",
    "- LpVariable()：定义一个线性规划变量\r\n",
    "- prob：求解的目标和条件\r\n",
    "- writeLP()：将线性规划问题的信息写入 lp 文件，只是将描述信息的类持久化到文件中，并没有提供读出的方法"
   ],
   "metadata": {}
  },
  {
   "cell_type": "code",
   "execution_count": 15,
   "source": [
    "prob = LpProblem('myProblem', sense=LpMinimize) \r\n",
    "x = LpVariable('x', 0, 3)\r\n",
    "y = LpVariable('y', 0, 1)\r\n",
    "prob += -4 * x + y\r\n",
    "prob += x + y <= 2\r\n",
    "prob.writeLP(\"../../.output/myProblem_begin.lp\")\r\n",
    "status = prob.solve(GLPK(msg=0))\r\n",
    "print(value(x), value(y))\r\n",
    "prob.writeLP(\"../../.output/myProblem_end.lp\")"
   ],
   "outputs": [
    {
     "output_type": "stream",
     "name": "stdout",
     "text": [
      "2.0 0.0\n"
     ]
    },
    {
     "output_type": "execute_result",
     "data": {
      "text/plain": [
       "[x, y]"
      ]
     },
     "metadata": {},
     "execution_count": 15
    }
   ],
   "metadata": {}
  },
  {
   "cell_type": "markdown",
   "source": [
    "[Python的pulp解决线性规划问题](https://blog.csdn.net/qq_20448859/article/details/72330362)\r\n",
    "\r\n",
    "pulp能够解包括整数规划在内的绝大多数线性规划问题，并且提供了多种solver，每种solver针对不同类型的线性规划问题有更好的效果。\r\n",
    "\r\n",
    "关于pulp工具包的详细介绍，请参见[pulp官网](https://coin-or.github.io/pulp/)。\r\n",
    "\r\n",
    "1. LpProblem类\r\n",
    "\r\n",
    "LpProblem(name='NoName', sense=LpMinimize):\r\n",
    "构造函数，用来构造一个LP问题实例，其中name指定问题名（输出信息用)，\r\n",
    "sense值是LpMinimize或LpMaximize中的一个，用来指定目标函数是求极大值还是极小值。\r\n",
    "\r\n",
    "solve(solver=None, **kwargs):\r\n",
    "在对LpProblem添加完约束条件后，调用该函数进行求解，如果不是求解特定的整数规划问题，solver一般使用默认即可。\r\n",
    "\r\n",
    "2. LpVariable类\r\n",
    "\r\n",
    "LpVariable(name, lowBound=None, upBound=None, cat='Continuous', e=None): \r\n",
    "构造函数，用来构造LP问题中的变量，name指定变量名，lowBound和upBound是下界和上界，\r\n",
    "默认分别是负无穷到正无穷,cat用来指定变量是离散(Integer,Binary)还是连续(Continuous)。\r\n",
    "\r\n",
    "dicts(name, indexs, lowBound=None, upBound=None, cat='Continuous', indexStart=[]):\r\n",
    "用来构造变量字典，可以让我们不用一个个地创建Lp变量实例。name指定所有变量的前缀,\r\n",
    "index是列表，其中的元素会被用来构成变量名，后面三个参数和LbVariable中的一样。\r\n",
    "\r\n",
    "3. lpSum(vector)\r\n",
    "\r\n",
    "计算一个序列的值，使用lpSum求解比普通的sum函数要快得多。\r\n"
   ],
   "metadata": {}
  }
 ]
}